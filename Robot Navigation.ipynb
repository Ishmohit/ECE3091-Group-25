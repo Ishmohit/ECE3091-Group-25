{
 "cells": [
  {
   "cell_type": "code",
   "execution_count": 1,
   "metadata": {},
   "outputs": [],
   "source": [
    "import numpy as np\n",
    "from matplotlib import pyplot as plt\n",
    "from IPython import display\n",
    "import gpiozero\n",
    "import time"
   ]
  },
  {
   "cell_type": "code",
   "execution_count": 2,
   "metadata": {},
   "outputs": [],
   "source": [
    "# Defining GPIO inputs and outputs\n",
    "pwm_l = gpiozero.PWMOutputDevice(pin=14,active_high=True,initial_value=0,frequency=50000)\n",
    "dir_l = gpiozero.OutputDevice(pin=23)\n",
    "\n",
    "pwm_r = gpiozero.PWMOutputDevice(pin=15,active_high=True,initial_value=0,frequency=50000)\n",
    "dir_r = gpiozero.OutputDevice(pin=24)\n",
    "\n",
    "dir_l = 1\n",
    "dir_r = 1\n",
    "\n",
    "encoder_l = gpiozero.RotaryEncoder(a=2, b=3,max_steps=100000) \n",
    "encoder_r = gpiozero.RotaryEncoder(a=17, b=27,max_steps=100000) \n",
    "\n",
    "# add sensors"
   ]
  },
  {
   "cell_type": "code",
   "execution_count": 3,
   "metadata": {},
   "outputs": [],
   "source": [
    "# Defining robot model with real feedback\n",
    "class DiffDriveRobot:\n",
    "    \n",
    "    def __init__(self, inertia=5, dt=0.1, drag=1, wheel_radius=0.028, wheel_sep=0.101):\n",
    "        \n",
    "        self.x = 0.0 # y-position\n",
    "        self.y = 0.0 # y-position \n",
    "        self.th = 0.0 # orientation\n",
    "        \n",
    "        self.wl = 0.0 #rotational velocity left wheel\n",
    "        self.wr = 0.0 #rotational velocity right wheel\n",
    "        \n",
    "        self.I = inertia\n",
    "        self.d = drag\n",
    "        self.dt = dt\n",
    "        \n",
    "        self.r = wheel_radius\n",
    "        self.l = wheel_sep\n",
    "    \n",
    "    # Calculate motor speed from measured shaft encoder feedback\n",
    "    def motor_speed(self,encoder):\n",
    "                \n",
    "        N = 32 # 32 line encoder\n",
    "        GEAR_RATIO = 114.7 \n",
    "        steps = encoder.steps # encoder feedback\n",
    "        rps = (steps/self.dt)/N\n",
    "        rpm = rps*60\n",
    "        wheel_rpm = rpm/GEAR_RATIO\n",
    "        w_min = (2*np.pi*self.r*wheel_rpm)/1000\n",
    "        w = w_min/60\n",
    "        \n",
    "#         torque = self.I*duty_cycle\n",
    "#         w = w + self.dt*(torque - self.d*w)\n",
    "\n",
    "        \n",
    "        return w\n",
    "    \n",
    "    # Velocity motion model\n",
    "    # Base linear and angular velocity from actual left and right angular velocity\n",
    "    def base_velocity(self,wl,wr):\n",
    "        \n",
    "        v = (wl*self.r + wr*self.r)/2.0\n",
    "        \n",
    "        w = (wl - wr)/self.l\n",
    "        \n",
    "        return v, w\n",
    "    \n",
    "    # Kinematic motion model\n",
    "    def pose_update(self,duty_cycle_l,duty_cycle_r, encoder_l, encoder_r, pwm_l, pwm_r):\n",
    "        \n",
    "        self.wl = self.motor_speed(encoder_l)\n",
    "        self.wr = self.motor_speed(encoder_r)\n",
    "        \n",
    "        v, w = self.base_velocity(self.wl,self.wr)\n",
    "        \n",
    "        pwm_l.value = duty_cycle_l\n",
    "        pwm_r.value = duty_cycle_r\n",
    "        \n",
    "        self.x = self.x + self.dt*v*np.cos(self.th)\n",
    "        self.y = self.y + self.dt*v*np.sin(self.th)\n",
    "        self.th = self.th + w*self.dt\n",
    "        \n",
    "        \n",
    "        return self.x, self.y, self.th\n",
    "        "
   ]
  },
  {
   "cell_type": "code",
   "execution_count": 4,
   "metadata": {},
   "outputs": [],
   "source": [
    "# Defining robot velocity controller\n",
    "class RobotController:\n",
    "    \n",
    "    def __init__(self, Kp=1, Ki=0.25, wheel_radius=0.028, wheel_sep=0.101):\n",
    "        \n",
    "        self.Kp = Kp\n",
    "        self.Ki = Ki\n",
    "        self.r = wheel_radius\n",
    "        self.l = wheel_sep\n",
    "        self.e_sum_l = 0 # error term of left wheel\n",
    "        self.e_sum_r = 0 # error term of right wheel\n",
    "        \n",
    "    # Implement duty cycle PI control given target and actual angular velocity\n",
    "    def p_control(self,w_desired,w_measured,e_sum):\n",
    "        \n",
    "        duty_cycle = min(max(-1,self.Kp*(w_desired-w_measured) + self.Ki*e_sum),1)\n",
    "        \n",
    "        e_sum = e_sum + (w_desired-w_measured)\n",
    "        \n",
    "        return duty_cycle, e_sum\n",
    "        \n",
    "        \n",
    "    # Required duty cycle from target linear and angular velocity \n",
    "    def drive(self,v_desired,w_desired,wl,wr):\n",
    "        \n",
    "        wl_desired = v_desired/self.r + self.l*w_desired/2 \n",
    "        wr_desired = v_desired/self.r - self.l*w_desired/2\n",
    "        \n",
    "        duty_cycle_l,self.e_sum_l = self.p_control(wl_desired,wl,self.e_sum_l)\n",
    "        duty_cycle_r,self.e_sum_r = self.p_control(wr_desired,wr,self.e_sum_r)\n",
    "        \n",
    "        \n",
    "        return duty_cycle_l, duty_cycle_r\n",
    "        "
   ]
  },
  {
   "cell_type": "code",
   "execution_count": 5,
   "metadata": {},
   "outputs": [],
   "source": [
    "# Initalising models\n",
    "robot = DiffDriveRobot(inertia=5, dt=0.1, drag=1, wheel_radius=0.028, wheel_sep=0.101)\n",
    "controller = RobotController(Kp=1, Ki=0.25, wheel_radius=0.028, wheel_sep=0.101)"
   ]
  },
  {
   "cell_type": "code",
   "execution_count": 6,
   "metadata": {},
   "outputs": [],
   "source": [
    "# Example controller\n",
    "\n",
    "poses = []\n",
    "velocities = []\n",
    "duty_cycle_commands = []\n",
    "\n",
    "for i in range(300):\n",
    "    \n",
    "    if i < 100: # drive in circular path (turn left) for 10 s\n",
    "        duty_cycle_l,duty_cycle_r = controller.drive(0.1,1,robot.wl,robot.wr)\n",
    "    elif i < 200: # drive in circular path (turn right) for 10 s\n",
    "        duty_cycle_l,duty_cycle_r = controller.drive(0.1,-1,robot.wl,robot.wr)\n",
    "    else: # stop\n",
    "        duty_cycle_l,duty_cycle_r = (0,0)\n",
    "    \n",
    "    # Drive robot motion - send duty cycle command to robot\n",
    "    x,y,th = robot.pose_update(duty_cycle_l, duty_cycle_r, encoder_l, encoder_r, pwm_l, pwm_r)\n",
    "\n",
    "    # Log data\n",
    "    poses.append([x,y,th])\n",
    "    duty_cycle_commands.append([duty_cycle_l,duty_cycle_r])\n",
    "    velocities.append([robot.wl,robot.wr])"
   ]
  },
  {
   "cell_type": "code",
   "execution_count": 7,
   "metadata": {},
   "outputs": [],
   "source": [
    "# Defining robot path planner (without obstacle avoidance)\n"
   ]
  },
  {
   "cell_type": "code",
   "execution_count": 8,
   "metadata": {},
   "outputs": [],
   "source": [
    "# Defining robot path planner (with obstacle avoidance)"
   ]
  },
  {
   "cell_type": "code",
   "execution_count": 9,
   "metadata": {},
   "outputs": [],
   "source": [
    "# Define robot coordinates"
   ]
  },
  {
   "cell_type": "code",
   "execution_count": 10,
   "metadata": {},
   "outputs": [],
   "source": [
    "# Run robot using predefined coordinates"
   ]
  },
  {
   "cell_type": "code",
   "execution_count": 11,
   "metadata": {},
   "outputs": [],
   "source": [
    "# Run robot indefinitely for final competition"
   ]
  }
 ],
 "metadata": {
  "kernelspec": {
   "display_name": "Python 3",
   "language": "python",
   "name": "python3"
  },
  "language_info": {
   "codemirror_mode": {
    "name": "ipython",
    "version": 3
   },
   "file_extension": ".py",
   "mimetype": "text/x-python",
   "name": "python",
   "nbconvert_exporter": "python",
   "pygments_lexer": "ipython3",
   "version": "3.7.3"
  }
 },
 "nbformat": 4,
 "nbformat_minor": 5
}
